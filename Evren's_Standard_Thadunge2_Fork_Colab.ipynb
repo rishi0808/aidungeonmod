{
  "nbformat": 4,
  "nbformat_minor": 0,
  "metadata": {
    "colab": {
      "name": "Evren's Standard Thadunge2 Fork Colab.ipynb",
      "provenance": [],
      "collapsed_sections": [],
      "machine_shape": "hm",
      "include_colab_link": true
    },
    "kernelspec": {
      "name": "python3",
      "display_name": "Python 3"
    },
    "accelerator": "GPU"
  },
  "cells": [
    {
      "cell_type": "markdown",
      "metadata": {
        "id": "view-in-github",
        "colab_type": "text"
      },
      "source": [
        "<a href=\"https://colab.research.google.com/github/rishi0808/aidungeonmod/blob/master/Evren's_Standard_Thadunge2_Fork_Colab.ipynb\" target=\"_parent\"><img src=\"https://colab.research.google.com/assets/colab-badge.svg\" alt=\"Open In Colab\"/></a>"
      ]
    },
    {
      "cell_type": "markdown",
      "metadata": {
        "id": "7dRi_BDWErNf",
        "colab_type": "text"
      },
      "source": [
        "# AI Dungeon 2 Thadunge2 Fork Working Colab (modified by Evren)\n",
        "<hr>"
      ]
    },
    {
      "cell_type": "markdown",
      "metadata": {
        "id": "SLhuTInlNJ8P",
        "colab_type": "text"
      },
      "source": [
        "### Evren modified this Colab from an old version of the fork's Colab. It now pulls my stable fork of thadunge2, found [here](https://github.com/Skrownerve/AIDungeon).\n",
        "\n",
        "Click [here](https://docs.google.com/document/d/1b-FXpcU1v9OXoW8kW92PlcmWPIVGN-tAWbS-vfuve40/edit?usp=sharing) to read my tips and tricks guide to playing all versions of AI Dungeon, including my long-term story guide.\n",
        "\n",
        "# **IMPORTANT - How to use properly use this:**\n",
        "\n",
        "\n",
        "1. Follow steps 1-2 of the \"How to install and play\" section below this one. This means save a copy in your Google Drive by clicking File > Save a copy in Drive... This will allow you to have edit and save permissions as well as your own copy. You can always return to this link to grab a fresh copy if you need it. Be sure to delete the AIDungeon folder from your Google Drive if you are trying to do a fresh install.\n",
        "2. Follow the rest of the instructions. \n",
        "3. **My goal with the fork included on this Colab by default is to maintain a stable version of thadunge2.** This means it should be safe to update when I update the master branch, but you can always opt out of the updates by not running cells 2 and 3.\n",
        "4. The link for an old official Colab for this fork used to be here. **Seek it out at your own risk.** It had more organized installation instructions, but still used the mv command and included a lot of unnecessary commentary on the developer. As of Dec. 18, 2019, I was unable to get the game to install and run properly on that Colab, and it appears to have been removed. The github user that created it seemed to be https://github.com/kornilov1\n",
        "\n",
        "<hr>\n",
        "\n",
        "### <a href=\"https://twitter.com/nickwalton00?ref_src=twsrc%5Etfw\" class=\"twitter-follow-button\" data-show-count=\"false\">Follow @nickwalton00</a> on Twitter for updates on the original project.\n",
        "\n",
        "\n",
        "## About\n",
        "AI Dungeon 2 is a completely AI generated text adventure built with OpenAI's largest GPT-2 model. It's a first of its kind game that allows you to enter and will react to any action you can imagine.\n",
        "\n",
        "The thadunge2 fork is a heavily modded version of the original project that includes many useful and convenient features to allow more freedom with the story. It is not supported nor maintained by Nick Walton or the staff of our Discord server. **However, the fork that is loaded by default is curated by Evren, to ensure it is stable.**\n",
        "\n",
        "## Official Links\n",
        "* While you wait for cells to finish you can [visit the official site](https://aidungeon.io/).\n",
        "* [Read more](https://pcc.cs.byu.edu/2019/11/21/ai-dungeon-2-creating-infinitely-generated-text-adventures-with-deep-learning-language-models/) about how AI Dungeon 2 is made.\n",
        "\n",
        "* If you have any questions about the original project feel free to contact the author on Twitter https://twitter.com/nickwalton00.\n",
        "* If you like playing then please consider [supporting](https://www.patreon.com/join/AIDungeon/) the author.\n",
        "\n",
        "## Discord Server\n",
        "If you somehow found this Colab and are not already a member of the AI Dungeon Discord server, join us [here](https://discord.gg/Dg8Vcz6)."
      ]
    },
    {
      "cell_type": "markdown",
      "metadata": {
        "id": "xn0bEX3R8IMC",
        "colab_type": "text"
      },
      "source": [
        "# How to install and play: detailed instructions (modified from original Colab).\n",
        "---\n",
        "\n"
      ]
    },
    {
      "cell_type": "markdown",
      "metadata": {
        "id": "w9DIAxtRMlAV",
        "colab_type": "text"
      },
      "source": [
        "1. First make sure you have a Google Drive account and that you are signed up. Optionally, delete the AIDungeon folder in your Drive if you want a fresh install of Evren's fork. Otherwise, you can just run cells 1 and 4 to play your existing copy in this Colab.\n",
        "2. On the top left: Click \"File\"-> \"Save a a copy in Drive\". A new tab will open, close the one you were on before.\n",
        "3. Click \"Tools\"-> \"Settings...\" -> \"Theme\" -> \"Dark\" (optional but recommended).\n",
        "4. (Optional) Run the fifth cell if you want more RAM, the allocated GPU will crash (takes about 80-85 seconds) and Google Colab will offer you an option to get more RAM (max is 25GB), if you have already max RAM you can skip this.\n",
        "IF ENOUGH PEOPLE USE THIS OPTION THEN YOU COULD GET A HIGH-RAM SERVER AUTOMATICALLY, IN THIS CASE JUST RECONNECT NORMALLY AND IGNORE THIS STEP.\n",
        "5. Run the first cell, it will mount your Google Drive. It will ask for authorization so follow the link given and log in, then paste the code back in the box that showed up under the code and press enter.\n",
        "6. Run the second cell, it will download the game files to /content/AIDungeon/.\n",
        " - If you wish to use another Github fork (meaning a different version of the game) for whatever reason, just change the link on the last part of the first line. Unmodded AI Dungeon 2 is: https://github.com/AIDungeon/AIDungeon/\n",
        "7. Run the third cell, it will copy the game files to your Google Drive so they won't have to be downloaded every time.\n",
        "8. Now AIDungeon is correctly installed in your Google Drive, you just need to run the fourth cell to play, but DO NOT REPEAT THE PREVIOUS STEPS\n",
        " - Make sure each command is finished, some of them take a while to process.\n",
        "9. When running the game again (i.e.: after you closed the tab) just:\n",
        " - Run the first cell. You might need to authorize it again.\n",
        "        + If this cell gives you an error, try clicking \"Runtime\"-> \"Factory reset runtime\" on the top of the screen.\n",
        " - Run the fourth cell and play the game.\n",
        "10. To get the most recent changes done from the GitHub, you will have to factory reset runtime and repeat cells 1-4.\n",
        " - My goal is to keep the fork stable, so if I put out an update, it *should* already be tested and stable, but you may opt out of the updates by simply not running Cells 2 and 3 again."
      ]
    },
    {
      "cell_type": "markdown",
      "metadata": {
        "id": "LkxkzJZQM4_w",
        "colab_type": "text"
      },
      "source": [
        "# Cells: where the magic happens.\n",
        "---"
      ]
    },
    {
      "cell_type": "markdown",
      "metadata": {
        "id": "RBdGm724G-0d",
        "colab_type": "text"
      },
      "source": [
        "### Cell 1: run every time you have to reconnect.\n",
        "---"
      ]
    },
    {
      "cell_type": "markdown",
      "metadata": {
        "id": "dLcB4p8rRqqt",
        "colab_type": "text"
      },
      "source": [
        "This step requires user input. Watch for a link to appear and a box asking for authentication."
      ]
    },
    {
      "cell_type": "code",
      "metadata": {
        "id": "meQ2T-4uxFDN",
        "colab_type": "code",
        "colab": {}
      },
      "source": [
        "from google.colab import drive\n",
        "drive.mount('/content/gdrive', force_remount=True)\n",
        "root_dir = \"/content/gdrive/My Drive/\""
      ],
      "execution_count": 0,
      "outputs": []
    },
    {
      "cell_type": "markdown",
      "metadata": {
        "id": "Xr4TdbnOHGx4",
        "colab_type": "text"
      },
      "source": [
        "### Cell 2: run only on first install or if you wish to update the fork.\n",
        "---"
      ]
    },
    {
      "cell_type": "markdown",
      "metadata": {
        "id": "akhD4XJoR2Mi",
        "colab_type": "text"
      },
      "source": [
        "This cell may ask for user input. If you intended to run it, you should answer y to the prompt about downloading the model."
      ]
    },
    {
      "cell_type": "code",
      "metadata": {
        "colab_type": "code",
        "id": "4MeHmMf_CUAZ",
        "colab": {}
      },
      "source": [
        "!git clone https://github.com/Skrownerve/AIDungeon\n",
        "%cd AIDungeon\n",
        "!chmod 777 install.sh \n",
        "!sed -i -e 's/\\r$//' install.sh\n",
        "!./install.sh\n",
        "!chmod 777 download_model.sh \n",
        "!sed -i -e 's/\\r$//' download_model.sh\n",
        "!./download_model.sh\n",
        "from IPython.display import clear_output \n",
        "clear_output()\n",
        "print(\"Download Complete!\")"
      ],
      "execution_count": 0,
      "outputs": []
    },
    {
      "cell_type": "markdown",
      "metadata": {
        "id": "3kENXL17RkPd",
        "colab_type": "text"
      },
      "source": [
        "### Cell 3: run only after running Cell 2 if you wish to update the fork.\n",
        "---"
      ]
    },
    {
      "cell_type": "markdown",
      "metadata": {
        "id": "sxxKTFMsHq92",
        "colab_type": "text"
      },
      "source": [
        "I believe errors regarding symbolic links are safe to ignore. The folders in question seem to be generated once play.py is run.\n",
        "\n",
        "This part will take a while with no output. Be patient and wait for it to finish! The icon on the left will stop spinning and you'll probably get those symbolic link errors. I also added a \"Copy complete!\" message."
      ]
    },
    {
      "cell_type": "code",
      "metadata": {
        "colab_type": "code",
        "id": "6y7zF5AdCTSz",
        "colab": {}
      },
      "source": [
        "%cd /content/gdrive/My\\ Drive/\n",
        "!mkdir AIDungeon\n",
        "!cp -r /content/AIDungeon/{,.[^.]}* /content/gdrive/My\\ Drive/AIDungeon\n",
        "print(\"Copy complete!\")"
      ],
      "execution_count": 0,
      "outputs": []
    },
    {
      "cell_type": "markdown",
      "metadata": {
        "id": "9pP4zSxdHtoR",
        "colab_type": "text"
      },
      "source": [
        "### Cell 4: play the game.\n",
        "---"
      ]
    },
    {
      "cell_type": "markdown",
      "metadata": {
        "colab_type": "text",
        "id": "ECoBRCiNFyzn"
      },
      "source": [
        "**If you get encoder.json errors or the game simply will not run after following all steps,** trying with a completely fresh install may just work. Click Runtime > Factory reset runtime, delete the AIDungeon folder in your Google Drive, and just start over from the beginning.\n",
        "**You should also try to empty the Trash folder in Google Drive by navigating to it, clicking the Trash dropdown at the top and choosing Empty trash. Do this even if it appears to be empty.** The space shown as left in your Drive seems to be pretty inaccurate and may not update for a while."
      ]
    },
    {
      "cell_type": "code",
      "metadata": {
        "id": "YjArwbWh6XwN",
        "colab_type": "code",
        "colab": {}
      },
      "source": [
        "!pip install -r requirements.txt\n",
        "from IPython.display import clear_output \n",
        "clear_output()\n",
        "%cd /content/gdrive/My\\ Drive/AIDungeon\n",
        "from IPython.display import Javascript\n",
        "display(Javascript('''google.colab.output.setIframeHeight(0, true, {maxHeight: 5000})'''))\n",
        "!python play.py"
      ],
      "execution_count": 0,
      "outputs": []
    },
    {
      "cell_type": "markdown",
      "metadata": {
        "id": "s8JwIpZhqxJa",
        "colab_type": "text"
      },
      "source": [
        "###Cell 5 (optional): upgrade RAM.\n",
        "---"
      ]
    },
    {
      "cell_type": "markdown",
      "metadata": {
        "id": "Bhmys6sIIclj",
        "colab_type": "text"
      },
      "source": [
        "After running a cell or pressing Connect, check the RAM you are allocated by hovering over the bars in the top right corner. If you already have 25+, ignore this. If you don't, I suggest running this cell before any others. You will then have to start over from Cell 1. If you've already run Cells 2 and 3 successfully, you do not need to run them again. Just run Cells 1 and 4 to play.\n",
        "\n",
        "**This cell WILL NOT RUN if a cell above it is still processing.** Stop them all if you need this to run. You have to restart from Cell 1 anyway.\n",
        "\n",
        "---\n",
        "\n",
        "If you get an OOM (out of memory error, random crashes) you might want to increase the available RAM. To do this, run the code below. Wait until it crashes and a little message pops up (takes about 80-85 seconds) asking if you'd like to increase the available memory. Say yes and then start with cell 1 again."
      ]
    },
    {
      "cell_type": "code",
      "metadata": {
        "id": "Zb8MBT52sIHn",
        "colab_type": "code",
        "colab": {}
      },
      "source": [
        "thislist = [\"1\"]\n",
        "while 1:\n",
        "    thislist.append(\"1\")"
      ],
      "execution_count": 0,
      "outputs": []
    },
    {
      "cell_type": "markdown",
      "metadata": {
        "id": "MZ7qGEErv9S7",
        "colab_type": "text"
      },
      "source": [
        "##Notepad: take notes for your own reference.\n",
        "---"
      ]
    },
    {
      "cell_type": "markdown",
      "metadata": {
        "id": "WwolDH4SIr37",
        "colab_type": "text"
      },
      "source": [
        "### Saves:\n",
        "\n",
        "I put save codes in here with a description so I know what they are.\n",
        "\n",
        "### Contexts:\n",
        "\n",
        "I write contexts here, or at least the last one I used (for continuing stories in new games).\n",
        "\n",
        "On a separate line I write what prompt I'm going to use for that context.\n",
        "\n",
        "### Ideas:\n",
        "\n"
      ]
    }
  ]
}